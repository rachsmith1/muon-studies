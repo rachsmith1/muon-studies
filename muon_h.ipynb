{
 "cells": [
  {
   "cell_type": "code",
   "execution_count": 1,
   "metadata": {
    "collapsed": true
   },
   "outputs": [],
   "source": [
    "#!/usr/bin/env python\n",
    "from __future__ import division"
   ]
  },
  {
   "cell_type": "code",
   "execution_count": 2,
   "metadata": {
    "collapsed": true
   },
   "outputs": [],
   "source": [
    "import numpy as np\n",
    "import pandas as pd\n",
    "import scipy.stats as st\n",
    "\n",
    "from numpy.lib.recfunctions import stack_arrays\n",
    "from root_numpy import root2array, root2rec\n",
    "import glob"
   ]
  },
  {
   "cell_type": "code",
   "execution_count": 3,
   "metadata": {
    "collapsed": true
   },
   "outputs": [],
   "source": [
    "import matplotlib\n",
    "import matplotlib.colors\n",
    "import matplotlib.patches as mpatches\n",
    "import matplotlib.pyplot as plt\n",
    "import matplotlib.cm as cm\n",
    "matplotlib.rcParams.update({'font.size': 16})\n",
    "%matplotlib inline"
   ]
  },
  {
   "cell_type": "code",
   "execution_count": 4,
   "metadata": {
    "collapsed": true
   },
   "outputs": [],
   "source": [
    "from collections import OrderedDict"
   ]
  },
  {
   "cell_type": "code",
   "execution_count": 5,
   "metadata": {
    "collapsed": true
   },
   "outputs": [],
   "source": [
    "GeV = 1000"
   ]
  },
  {
   "cell_type": "code",
   "execution_count": 6,
   "metadata": {
    "collapsed": true
   },
   "outputs": [],
   "source": [
    "JetType = OrderedDict()\n",
    "JetType[\"bH\"] = {\"name\":\"b jets\",               \"pdgId\":5, \"color\":\"blue\"}\n",
    "JetType[\"cH\"] = {\"name\":\"c jets\",               \"pdgId\":4, \"color\":\"green\"}\n",
    "JetType[\"li\"] = {\"name\":\"light-flavoured jets\", \"pdgId\":0, \"color\":\"red\"}\n",
    "JetType[\"tH\"] = {\"name\":\"$\\\\tau$ jets\",             \"pdgId\":15,\"color\":\"yellow\"}"
   ]
  },
  {
   "cell_type": "code",
   "execution_count": 7,
   "metadata": {
    "collapsed": true
   },
   "outputs": [],
   "source": [
    "PtBins = OrderedDict()\n",
    "PtBins[\"20_50\"]   = {\"name\":\"jet $p_T$: 20-50 GeV\",\"min\":20,\"max\":50}\n",
    "PtBins[\"50_100\"]  = {\"name\":\"jet $p_T$: 50-100 GeV\",\"min\":50,\"max\":100}\n",
    "PtBins[\"100_200\"] = {\"name\":\"jet $p_T$: 100-200 GeV\",\"min\":100,\"max\":200}\n",
    "PtBins[\"200_500\"] = {\"name\":\"jet $p_T$: 200-500 GeV\",\"min\":200,\"max\":500}"
   ]
  },
  {
   "cell_type": "code",
   "execution_count": 8,
   "metadata": {
    "collapsed": true
   },
   "outputs": [],
   "source": [
    "EtaBins = OrderedDict()\n",
    "EtaBins[\"0_1\"]   = {\"name\":\"$0 \\leq jet |\\eta| < 1$\",\"min\":0,\"max\":1} \n",
    "EtaBins[\"1_2.5\"] = {\"name\":\"$1 \\leq jet |\\eta| < 2.5$\",\"min\":1,\"max\":2.5}"
   ]
  },
  {
   "cell_type": "code",
   "execution_count": 9,
   "metadata": {
    "collapsed": true
   },
   "outputs": [],
   "source": [
    "#Not currently using. I used this class initially to test out the individual jet type plots.\n",
    "\n",
    "class UnstackedPlot:\n",
    "    def __init__(self, title, axisTitle, data, binning, normBool, logBool, jetType, ptBin, etaBin):\n",
    "        self.title     = title\n",
    "        self.axisTitle = axisTitle\n",
    "        \n",
    "        self.data      = data\n",
    "        self.binning   = binning\n",
    "        self.normBool  = normBool\n",
    "        self.logBool   = logBool\n",
    "        \n",
    "        self.jetType   = jetType\n",
    "        self.ptBin     = ptBin\n",
    "        self.etaBin    = etaBin\n",
    "        \n",
    "    def makePlot(self):\n",
    "        fig = plt.figure(figsize=(5, 3.5), dpi=100)\n",
    "        ax = fig.add_subplot(111)\n",
    "        \n",
    "        if len(self.data)==0: self.normBool = False\n",
    "        \n",
    "        plt.hist(self.data, self.binning, normed = self.normBool, histtype='step', fill=False, color=self.jetType[\"color\"])\n",
    "        \n",
    "        plt.text(1.05, 0.95, self.jetType[\"name\"], transform=ax.transAxes)\n",
    "        plt.text(1.05, 0.85, self.ptBin[\"name\"], transform=ax.transAxes)\n",
    "        plt.text(1.05, 0.75, self.etaBin[\"name\"], transform=ax.transAxes)\n",
    "        plt.text(1.05, 0.65, \"N = {0}\".format(len(self.data)), transform=ax.transAxes)\n",
    "            \n",
    "        plt.title(self.title)    \n",
    "        plt.xlabel(self.axisTitle)\n",
    "        plt.ylabel(\"1/N\")\n",
    "        if self.logBool and len(self.data)!=0: plt.yscale('log')\n",
    "        plt.tight_layout()\n",
    "        plt.show()"
   ]
  },
  {
   "cell_type": "code",
   "execution_count": 10,
   "metadata": {},
   "outputs": [],
   "source": [
    "class StackedPlot:\n",
    "    def __init__(self, title, axisTitle, binning, normBool, logBool, ptBin, etaBin):\n",
    "        #title of stacked plot\n",
    "        self.title     = title\n",
    "        #x-axis title of stacked plot\n",
    "        self.axisTitle = axisTitle\n",
    "        \n",
    "        #binning, i.e., max, min, and bin width of stacked plot\n",
    "        self.binning   = binning\n",
    "        #is the plot normalized?\n",
    "        self.normBool  = normBool\n",
    "        #is the y-axis log?\n",
    "        self.logBool   = logBool\n",
    "        \n",
    "        #what pt-bin is the plot?\n",
    "        self.ptBin     = ptBin\n",
    "        #what eta-bin is the plot?\n",
    "        self.etaBin    = etaBin\n",
    "        \n",
    "        #list of individual histograms that will be added to the stacked plot\n",
    "        self.histoList = []\n",
    "    \n",
    "    #append histograms to the list of histograms mentioned earlier\n",
    "    def appendHisto(self,histoToAppend, jetType):\n",
    "        self.histoList.append([histoToAppend, jetType])\n",
    "        \n",
    "    def makePlot(self):\n",
    "        fig = plt.figure(figsize=(5, 4), dpi=100)\n",
    "        ax = fig.add_subplot(111)\n",
    "\n",
    "        #for the purposes of weighting\n",
    "        ntotal = 0\n",
    "        for histo in self.histoList:\n",
    "            ntotal += len(histo[0])\n",
    "                    \n",
    "        for histo in self.histoList:\n",
    "            #check for empty histograms\n",
    "            if len(histo[0])==0: continue\n",
    "            \n",
    "            weight=1.0\n",
    "            #weight over the TOTAL # OF MUONS, i.e. all the muons from all of the jet types\n",
    "            if self.normBool: \n",
    "                weight = 1/ntotal\n",
    "            weight_list = [weight] * len(histo[0])\n",
    "            \n",
    "            plt.hist(histo[0], self.binning, weights=weight_list, histtype='step', fill=False, color=histo[1][\"color\"], label=histo[1][\"name\"])\n",
    "        \n",
    "        #plot the legend\n",
    "        plt.legend(bbox_to_anchor=(1.05, 1), loc=2, borderaxespad=0.)\n",
    "        \n",
    "        #plot the pt and eta bins for the plot\n",
    "        plt.text(1.05, 0.55, self.ptBin[\"name\"], transform=ax.transAxes)\n",
    "        plt.text(1.05, 0.45, self.etaBin[\"name\"], transform=ax.transAxes)\n",
    "                \n",
    "        plt.title(self.title)    \n",
    "        plt.xlabel(self.axisTitle)\n",
    "        if self.normBool: \n",
    "            plt.ylabel(\"1/($N$ muons)\")\n",
    "        else:\n",
    "            plt.ylabel(\"$N$\")            \n",
    "        if self.logBool: plt.yscale('log')\n",
    "        plt.tight_layout()\n",
    "        plt.show()       "
   ]
  }
 ],
 "metadata": {
  "kernelspec": {
   "display_name": "Python 2",
   "language": "python",
   "name": "python2"
  },
  "language_info": {
   "codemirror_mode": {
    "name": "ipython",
    "version": 2
   },
   "file_extension": ".py",
   "mimetype": "text/x-python",
   "name": "python",
   "nbconvert_exporter": "python",
   "pygments_lexer": "ipython2",
   "version": "2.7.13"
  }
 },
 "nbformat": 4,
 "nbformat_minor": 2
}

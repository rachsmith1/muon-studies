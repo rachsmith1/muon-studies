{
 "cells": [
  {
   "cell_type": "markdown",
   "metadata": {},
   "source": [
    "# More SMT studies for muons from light-flavoured jets"
   ]
  },
  {
   "cell_type": "markdown",
   "metadata": {},
   "source": [
    "Jet Cuts:   \n",
    "> Calibrated jet $p_T$ > 20 GeV/c, |$\\eta$| < 2.5 <br>\n",
    "> JVT > 0.59 low $p_T$ jets <br>\n",
    "> Jet can't overlap with a previously IDed photon or muon <br>\n",
    ">> (although this isn't working very well, instead just ignore muons coming from W +/-)\n",
    "\n",
    "Muon Cuts:\n",
    "> Muon $p_T$ > 1 GeV/c, |$\\eta$| < 2.5"
   ]
  },
  {
   "cell_type": "code",
   "execution_count": 4,
   "metadata": {
    "collapsed": true
   },
   "outputs": [],
   "source": [
    "branchNames = [\n",
    "    \"jet_LabDr_HadF\",\n",
    "    \"jet_pt\",\n",
    "    \"jet_eta\",\n",
    "    \"jet_phi\",\n",
    "    \"jet_JVT\",\n",
    "    \"jet_aliveAfterOR\",\n",
    "    \"jet_aliveAfterORmu\",\n",
    "    \"jet_mu_smt\",\n",
    "    \"jet_mu_pt\",\n",
    "    \"jet_mu_eta\",\n",
    "    \"jet_mu_phi\",\n",
    "    \"jet_mu_pTrel\",\n",
    "    \"jet_mu_dR\",\n",
    "    \"jet_mu_d0\",\n",
    "    \"jet_mu_z0\",\n",
    "    \"jet_mu_parent_pdgid\",\n",
    "    \"jet_mu_qOverPratio\"\n",
    "]"
   ]
  },
  {
   "cell_type": "code",
   "execution_count": 5,
   "metadata": {},
   "outputs": [
    {
     "name": "stdout",
     "output_type": "stream",
     "text": [
      "Added ntuple #1\n",
      "Added ntuple #2\n",
      "Added ntuple #3\n"
     ]
    }
   ],
   "source": [
    "import glob\n",
    "import numpy as np\n",
    "from root_numpy import root2array\n",
    "\n",
    "files = glob.glob(\"/gpfs/slac/atlas/fs1/d/rafaeltl/public/RNNIP/FTAG_ntups/user.bdong.perf-flavtag.mc16_13TeV.410470.ttbar_nonallhad.e6337_e5984_s3126_r10201_r10210_Akt4EMTo/*.root\")\n",
    "data = root2array(files[0], branches=branchNames)\n",
    "print \"Added ntuple #1\"\n",
    "\n",
    "for f in range(1,len(files)):\n",
    "    data = np.hstack((data,root2array(files[f], branches=branchNames)))\n",
    "    print \"Added ntuple #{}\".format(f+1)"
   ]
  },
  {
   "cell_type": "code",
   "execution_count": 6,
   "metadata": {},
   "outputs": [
    {
     "name": "stdout",
     "output_type": "stream",
     "text": [
      "nan\n"
     ]
    }
   ],
   "source": [
    "print data[\"jet_mu_eta\"][0][0]"
   ]
  },
  {
   "cell_type": "code",
   "execution_count": 5,
   "metadata": {
    "collapsed": true
   },
   "outputs": [],
   "source": [
    "from plot import *"
   ]
  },
  {
   "cell_type": "code",
   "execution_count": 6,
   "metadata": {
    "scrolled": false
   },
   "outputs": [
    {
     "name": "stdout",
     "output_type": "stream",
     "text": [
      "0\n",
      "100000\n",
      "200000\n",
      "300000\n",
      "400000\n",
      "500000\n",
      "600000\n",
      "700000\n",
      "800000\n",
      "900000\n",
      "1000000\n",
      "1100000\n",
      "1200000\n",
      "1300000\n",
      "1400000\n",
      "0\n"
     ]
    },
    {
     "ename": "KeyboardInterrupt",
     "evalue": "",
     "output_type": "error",
     "traceback": [
      "\u001b[0;31m---------------------------------------------------------------------------\u001b[0m",
      "\u001b[0;31mKeyboardInterrupt\u001b[0m                         Traceback (most recent call last)",
      "\u001b[0;32m<ipython-input-6-b39057e49a9b>\u001b[0m in \u001b[0;36m<module>\u001b[0;34m()\u001b[0m\n\u001b[1;32m      1\u001b[0m \u001b[0mplotsPileupDzero\u001b[0m \u001b[0;34m=\u001b[0m \u001b[0mmakeMuonPlots\u001b[0m\u001b[0;34m(\u001b[0m\u001b[0mdata\u001b[0m\u001b[0;34m,\u001b[0m \u001b[0;34m\"pileup\"\u001b[0m\u001b[0;34m,\u001b[0m \u001b[0;34m\"d_0\"\u001b[0m\u001b[0;34m)\u001b[0m\u001b[0;34m\u001b[0m\u001b[0m\n\u001b[0;32m----> 2\u001b[0;31m \u001b[0mplotsPileupZzero\u001b[0m \u001b[0;34m=\u001b[0m \u001b[0mmakeMuonPlots\u001b[0m\u001b[0;34m(\u001b[0m\u001b[0mdata\u001b[0m\u001b[0;34m,\u001b[0m \u001b[0;34m\"pileup\"\u001b[0m\u001b[0;34m,\u001b[0m \u001b[0;34m\"z_0\"\u001b[0m\u001b[0;34m)\u001b[0m\u001b[0;34m\u001b[0m\u001b[0m\n\u001b[0m\u001b[1;32m      3\u001b[0m \u001b[0;34m\u001b[0m\u001b[0m\n\u001b[1;32m      4\u001b[0m \u001b[0mplotsPionDzero\u001b[0m \u001b[0;34m=\u001b[0m \u001b[0mmakeMuonPlots\u001b[0m\u001b[0;34m(\u001b[0m\u001b[0mdata\u001b[0m\u001b[0;34m,\u001b[0m \u001b[0;34m\"pi +/-\"\u001b[0m\u001b[0;34m,\u001b[0m \u001b[0;34m\"d_0\"\u001b[0m\u001b[0;34m)\u001b[0m\u001b[0;34m\u001b[0m\u001b[0m\n\u001b[1;32m      5\u001b[0m \u001b[0mplotsPionZzero\u001b[0m \u001b[0;34m=\u001b[0m \u001b[0mmakeMuonPlots\u001b[0m\u001b[0;34m(\u001b[0m\u001b[0mdata\u001b[0m\u001b[0;34m,\u001b[0m \u001b[0;34m\"pi +/-\"\u001b[0m\u001b[0;34m,\u001b[0m \u001b[0;34m\"z_0\"\u001b[0m\u001b[0;34m)\u001b[0m\u001b[0;34m\u001b[0m\u001b[0m\n",
      "\u001b[0;32m/gpfs/slac/atlas/fs1/u/recsmith/muon-studies/2018_07_25/plot.pyc\u001b[0m in \u001b[0;36mmakeMuonPlots\u001b[0;34m(data, muonParentName, impactParameter)\u001b[0m\n\u001b[1;32m    104\u001b[0m             if (\n\u001b[1;32m    105\u001b[0m                 \u001b[0;31m#light jets only\u001b[0m\u001b[0;34m\u001b[0m\u001b[0;34m\u001b[0m\u001b[0m\n\u001b[0;32m--> 106\u001b[0;31m                 \u001b[0mdata\u001b[0m\u001b[0;34m[\u001b[0m\u001b[0mi\u001b[0m\u001b[0;34m]\u001b[0m\u001b[0;34m[\u001b[0m\u001b[0;34m'jet_LabDr_HadF'\u001b[0m\u001b[0;34m]\u001b[0m\u001b[0;34m[\u001b[0m\u001b[0mjet\u001b[0m\u001b[0;34m]\u001b[0m     \u001b[0;34m==\u001b[0m \u001b[0;36m0\u001b[0m      \u001b[0;32mand\u001b[0m\u001b[0;34m\u001b[0m\u001b[0m\n\u001b[0m\u001b[1;32m    107\u001b[0m                 \u001b[0;31m#Nicole's jet cuts\u001b[0m\u001b[0;34m\u001b[0m\u001b[0;34m\u001b[0m\u001b[0m\n\u001b[1;32m    108\u001b[0m                 \u001b[0mdata\u001b[0m\u001b[0;34m[\u001b[0m\u001b[0mi\u001b[0m\u001b[0;34m]\u001b[0m\u001b[0;34m[\u001b[0m\u001b[0;34m'jet_pt'\u001b[0m\u001b[0;34m]\u001b[0m\u001b[0;34m[\u001b[0m\u001b[0mjet\u001b[0m\u001b[0;34m]\u001b[0m              \u001b[0;34m>\u001b[0m \u001b[0;36m20\u001b[0m\u001b[0;34m*\u001b[0m\u001b[0mGeV\u001b[0m \u001b[0;32mand\u001b[0m\u001b[0;34m\u001b[0m\u001b[0m\n",
      "\u001b[0;31mKeyboardInterrupt\u001b[0m: "
     ]
    }
   ],
   "source": [
    "plotsPileupDzero = makeMuonPlots(data, \"pileup\", \"d_0\")\n",
    "plotsPileupZzero = makeMuonPlots(data, \"pileup\", \"z_0\")\n",
    "\n",
    "plotsPionDzero = makeMuonPlots(data, \"pi +/-\", \"d_0\")\n",
    "plotsPionZzero = makeMuonPlots(data, \"pi +/-\", \"z_0\")\n",
    "\n",
    "plotsLightDzero = makeMuonPlots(data, \"light meson\", \"d_0\")\n",
    "plotsLightZzero = makeMuonPlots(data, \"light meson\", \"d_0\")"
   ]
  },
  {
   "cell_type": "code",
   "execution_count": null,
   "metadata": {
    "collapsed": true,
    "scrolled": false
   },
   "outputs": [],
   "source": [
    "printMuonPlots(plotsPileupDzero)\n",
    "printMuonPlots(plotsPileupZzero)\n",
    "printMuonPlots(plotsPionDzero)\n",
    "printMuonPlots(plotsPionZzero)\n",
    "printMuonPlots(plotsLightDzero)\n",
    "printMuonPlots(plotsLightZzero)"
   ]
  }
 ],
 "metadata": {
  "kernelspec": {
   "display_name": "Python 2",
   "language": "python",
   "name": "python2"
  },
  "language_info": {
   "codemirror_mode": {
    "name": "ipython",
    "version": 2
   },
   "file_extension": ".py",
   "mimetype": "text/x-python",
   "name": "python",
   "nbconvert_exporter": "python",
   "pygments_lexer": "ipython2",
   "version": "2.7.13"
  }
 },
 "nbformat": 4,
 "nbformat_minor": 2
}
